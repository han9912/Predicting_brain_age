{
 "cells": [
  {
   "cell_type": "code",
   "execution_count": 1,
   "metadata": {},
   "outputs": [],
   "source": [
    "import json\n",
    "import numpy as np\n",
    "from tqdm import tqdm\n",
    "from sklearn import svm\n",
    "from sklearn.model_selection import train_test_split,KFold\n"
   ]
  },
  {
   "cell_type": "code",
   "execution_count": 2,
   "metadata": {},
   "outputs": [],
   "source": [
    "def construct_matrix(data_path):\n",
    "    f = open(data_path, 'r')\n",
    "    data = json.load(f)\n",
    "    f.close()\n",
    "    training_list = []\n",
    "    target_list = []\n",
    "    for category in data:\n",
    "        target = np.zeros(len(data[category]))\n",
    "        matrix = np.zeros((len(data[category]),100))\n",
    "        for n,item in enumerate(data[category]):\n",
    "            matrix[n] = np.array(item['hist'])\n",
    "            target[n] = item['age']//10\n",
    "        training_list.append(matrix)\n",
    "        target_list.append(target)\n",
    "    training_matrix = np.concatenate(training_list)\n",
    "    target = np.concatenate(target_list)\n",
    "    return training_matrix, target"
   ]
  },
  {
   "cell_type": "code",
   "execution_count": 25,
   "metadata": {},
   "outputs": [],
   "source": [
    "def SVM_classification(X,y,k=10):\n",
    "    kf = KFold(n_splits=k)\n",
    "    split_result = kf.split(X)\n",
    "    loss_array = np.zeros(k)\n",
    "    for n,(train,test) in tqdm(enumerate(split_result), total=k):\n",
    "        print('Split', n)\n",
    "        X_train = X[train]\n",
    "        X_test = X[test]\n",
    "        y_train = y[train]\n",
    "        y_test = y[test]\n",
    "        clf = svm.SVC(gamma='auto')\n",
    "        clf.fit(X_train, y_train)\n",
    "        prediction = clf.predict(X_test)\n",
    "        for category in np.unique(y_test):\n",
    "            cls_num = np.sum(y_test == category)\n",
    "            correct_num = np.sum((y_test == category) & (prediction==y_test))\n",
    "            ratio = correct_num/cls_num\n",
    "            print('Category',category*10,'class num', cls_num, 'correct num', correct_num, 'correct ratio:', ratio)\n",
    "    return loss_array.mean()"
   ]
  },
  {
   "cell_type": "code",
   "execution_count": 24,
   "metadata": {},
   "outputs": [],
   "source": [
    "X, y = construct_matrix('data_representation/rep4.json')"
   ]
  },
  {
   "cell_type": "code",
   "execution_count": 26,
   "metadata": {},
   "outputs": [
    {
     "name": "stderr",
     "output_type": "stream",
     "text": [
      "\r",
      "  0%|          | 0/10 [00:00<?, ?it/s]"
     ]
    },
    {
     "name": "stdout",
     "output_type": "stream",
     "text": [
      "Split 0\n"
     ]
    },
    {
     "name": "stderr",
     "output_type": "stream",
     "text": [
      "\r",
      " 10%|█         | 1/10 [00:00<00:02,  3.33it/s]"
     ]
    },
    {
     "name": "stdout",
     "output_type": "stream",
     "text": [
      "Category 10.0 class num 31 correct num 0 correct ratio: 0.0\n",
      "Category 20.0 class num 136 correct num 136 correct ratio: 1.0\n",
      "Split 1\n"
     ]
    },
    {
     "name": "stderr",
     "output_type": "stream",
     "text": [
      "\r",
      " 20%|██        | 2/10 [00:00<00:02,  3.33it/s]"
     ]
    },
    {
     "name": "stdout",
     "output_type": "stream",
     "text": [
      "Category 0.0 class num 6 correct num 0 correct ratio: 0.0\n",
      "Category 10.0 class num 25 correct num 0 correct ratio: 0.0\n",
      "Category 20.0 class num 97 correct num 97 correct ratio: 1.0\n",
      "Category 30.0 class num 20 correct num 0 correct ratio: 0.0\n",
      "Category 40.0 class num 16 correct num 0 correct ratio: 0.0\n",
      "Category 50.0 class num 3 correct num 0 correct ratio: 0.0\n",
      "Split 2\n"
     ]
    },
    {
     "name": "stderr",
     "output_type": "stream",
     "text": [
      "\r",
      " 30%|███       | 3/10 [00:00<00:02,  3.33it/s]"
     ]
    },
    {
     "name": "stdout",
     "output_type": "stream",
     "text": [
      "Category 10.0 class num 4 correct num 0 correct ratio: 0.0\n",
      "Category 20.0 class num 96 correct num 87 correct ratio: 0.90625\n",
      "Category 30.0 class num 15 correct num 0 correct ratio: 0.0\n",
      "Category 40.0 class num 18 correct num 0 correct ratio: 0.0\n",
      "Category 50.0 class num 15 correct num 0 correct ratio: 0.0\n",
      "Category 60.0 class num 10 correct num 4 correct ratio: 0.4\n",
      "Category 70.0 class num 7 correct num 6 correct ratio: 0.8571428571428571\n",
      "Category 80.0 class num 1 correct num 0 correct ratio: 0.0\n",
      "Split 3\n"
     ]
    },
    {
     "name": "stderr",
     "output_type": "stream",
     "text": [
      "\r",
      " 40%|████      | 4/10 [00:01<00:01,  3.30it/s]"
     ]
    },
    {
     "name": "stdout",
     "output_type": "stream",
     "text": [
      "Category 10.0 class num 35 correct num 0 correct ratio: 0.0\n",
      "Category 20.0 class num 130 correct num 130 correct ratio: 1.0\n",
      "Category 30.0 class num 1 correct num 0 correct ratio: 0.0\n",
      "Split 4\n"
     ]
    },
    {
     "name": "stderr",
     "output_type": "stream",
     "text": [
      "\r",
      " 50%|█████     | 5/10 [00:01<00:01,  3.31it/s]"
     ]
    },
    {
     "name": "stdout",
     "output_type": "stream",
     "text": [
      "Category 10.0 class num 19 correct num 0 correct ratio: 0.0\n",
      "Category 20.0 class num 102 correct num 101 correct ratio: 0.9901960784313726\n",
      "Category 30.0 class num 23 correct num 0 correct ratio: 0.0\n",
      "Category 40.0 class num 10 correct num 0 correct ratio: 0.0\n",
      "Category 50.0 class num 6 correct num 0 correct ratio: 0.0\n",
      "Category 60.0 class num 4 correct num 0 correct ratio: 0.0\n",
      "Category 70.0 class num 2 correct num 0 correct ratio: 0.0\n",
      "Split 5\n"
     ]
    },
    {
     "name": "stderr",
     "output_type": "stream",
     "text": [
      "\r",
      " 60%|██████    | 6/10 [00:01<00:01,  3.29it/s]"
     ]
    },
    {
     "name": "stdout",
     "output_type": "stream",
     "text": [
      "Category 10.0 class num 21 correct num 0 correct ratio: 0.0\n",
      "Category 20.0 class num 93 correct num 93 correct ratio: 1.0\n",
      "Category 30.0 class num 29 correct num 0 correct ratio: 0.0\n",
      "Category 40.0 class num 5 correct num 0 correct ratio: 0.0\n",
      "Category 60.0 class num 7 correct num 0 correct ratio: 0.0\n",
      "Category 70.0 class num 10 correct num 2 correct ratio: 0.2\n",
      "Category 80.0 class num 1 correct num 0 correct ratio: 0.0\n",
      "Split 6\n"
     ]
    },
    {
     "name": "stderr",
     "output_type": "stream",
     "text": [
      "\r",
      " 70%|███████   | 7/10 [00:02<00:00,  3.33it/s]"
     ]
    },
    {
     "name": "stdout",
     "output_type": "stream",
     "text": [
      "Category 10.0 class num 3 correct num 0 correct ratio: 0.0\n",
      "Category 20.0 class num 53 correct num 53 correct ratio: 1.0\n",
      "Category 30.0 class num 27 correct num 0 correct ratio: 0.0\n",
      "Category 40.0 class num 20 correct num 0 correct ratio: 0.0\n",
      "Category 50.0 class num 19 correct num 4 correct ratio: 0.21052631578947367\n",
      "Category 60.0 class num 34 correct num 14 correct ratio: 0.4117647058823529\n",
      "Category 70.0 class num 8 correct num 4 correct ratio: 0.5\n",
      "Category 80.0 class num 2 correct num 0 correct ratio: 0.0\n",
      "Split 7\n"
     ]
    },
    {
     "name": "stderr",
     "output_type": "stream",
     "text": [
      "\r",
      " 80%|████████  | 8/10 [00:02<00:00,  3.34it/s]"
     ]
    },
    {
     "name": "stdout",
     "output_type": "stream",
     "text": [
      "Category 20.0 class num 36 correct num 36 correct ratio: 1.0\n",
      "Category 30.0 class num 29 correct num 0 correct ratio: 0.0\n",
      "Category 40.0 class num 26 correct num 0 correct ratio: 0.0\n",
      "Category 50.0 class num 28 correct num 0 correct ratio: 0.0\n",
      "Category 60.0 class num 29 correct num 15 correct ratio: 0.5172413793103449\n",
      "Category 70.0 class num 14 correct num 4 correct ratio: 0.2857142857142857\n",
      "Category 80.0 class num 4 correct num 0 correct ratio: 0.0\n",
      "Split 8\n"
     ]
    },
    {
     "name": "stderr",
     "output_type": "stream",
     "text": [
      "\r",
      " 90%|█████████ | 9/10 [00:02<00:00,  3.38it/s]"
     ]
    },
    {
     "name": "stdout",
     "output_type": "stream",
     "text": [
      "Category 10.0 class num 1 correct num 0 correct ratio: 0.0\n",
      "Category 20.0 class num 23 correct num 23 correct ratio: 1.0\n",
      "Category 30.0 class num 27 correct num 0 correct ratio: 0.0\n",
      "Category 40.0 class num 28 correct num 0 correct ratio: 0.0\n",
      "Category 50.0 class num 28 correct num 0 correct ratio: 0.0\n",
      "Category 60.0 class num 38 correct num 14 correct ratio: 0.3684210526315789\n",
      "Category 70.0 class num 19 correct num 0 correct ratio: 0.0\n",
      "Category 80.0 class num 2 correct num 0 correct ratio: 0.0\n",
      "Split 9\n"
     ]
    },
    {
     "name": "stderr",
     "output_type": "stream",
     "text": [
      "\r",
      "100%|██████████| 10/10 [00:02<00:00,  3.37it/s]"
     ]
    },
    {
     "name": "stdout",
     "output_type": "stream",
     "text": [
      "Category 10.0 class num 2 correct num 0 correct ratio: 0.0\n",
      "Category 20.0 class num 55 correct num 54 correct ratio: 0.9818181818181818\n",
      "Category 30.0 class num 26 correct num 0 correct ratio: 0.0\n",
      "Category 40.0 class num 26 correct num 0 correct ratio: 0.0\n",
      "Category 50.0 class num 32 correct num 0 correct ratio: 0.0\n",
      "Category 60.0 class num 17 correct num 15 correct ratio: 0.8823529411764706\n",
      "Category 70.0 class num 8 correct num 4 correct ratio: 0.5\n"
     ]
    },
    {
     "name": "stderr",
     "output_type": "stream",
     "text": [
      "\n"
     ]
    },
    {
     "data": {
      "text/plain": [
       "0.0"
      ]
     },
     "execution_count": 26,
     "metadata": {},
     "output_type": "execute_result"
    }
   ],
   "source": [
    "SVM_classification(X,y)"
   ]
  },
  {
   "cell_type": "code",
   "execution_count": null,
   "metadata": {},
   "outputs": [],
   "source": []
  }
 ],
 "metadata": {
  "kernelspec": {
   "display_name": "Python 3",
   "language": "python",
   "name": "python3"
  },
  "language_info": {
   "codemirror_mode": {
    "name": "ipython",
    "version": 3
   },
   "file_extension": ".py",
   "mimetype": "text/x-python",
   "name": "python",
   "nbconvert_exporter": "python",
   "pygments_lexer": "ipython3",
   "version": "3.7.2"
  }
 },
 "nbformat": 4,
 "nbformat_minor": 2
}
